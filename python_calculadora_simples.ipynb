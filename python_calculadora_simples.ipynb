{
  "nbformat": 4,
  "nbformat_minor": 0,
  "metadata": {
    "colab": {
      "provenance": [],
      "authorship_tag": "ABX9TyOXDBi2fewoiSAwzTyeN5SN",
      "include_colab_link": true
    },
    "kernelspec": {
      "name": "python3",
      "display_name": "Python 3"
    },
    "language_info": {
      "name": "python"
    }
  },
  "cells": [
    {
      "cell_type": "markdown",
      "metadata": {
        "id": "view-in-github",
        "colab_type": "text"
      },
      "source": [
        "<a href=\"https://colab.research.google.com/github/SandroPalhano/Desafio-001---Cumprido/blob/main/python_calculadora_simples.ipynb\" target=\"_parent\"><img src=\"https://colab.research.google.com/assets/colab-badge.svg\" alt=\"Open In Colab\"/></a>"
      ]
    },
    {
      "cell_type": "code",
      "execution_count": 2,
      "metadata": {
        "colab": {
          "base_uri": "https://localhost:8080/"
        },
        "id": "_WI7J572sivC",
        "outputId": "cd34f573-22aa-43bb-fde4-ecc6d72f2c74"
      },
      "outputs": [
        {
          "output_type": "stream",
          "name": "stdout",
          "text": [
            "selecione a operação:\n",
            "1. Somar\n",
            "2. diminuir\n",
            "3. multiplicar\n",
            "4. dividir\n",
            "Digite o número da operação desejada (1, 2, 3, ou 4): 4\n",
            "Digite o primeiro número: 2023\n",
            "Digite o segundo número: 1973\n",
            "Resultado:  1.0253421186011151\n"
          ]
        }
      ],
      "source": [
        "def somar(a, b):\n",
        "  return a  + b\n",
        "\n",
        "def diminuir (a, b):\n",
        "  return a - b\n",
        "\n",
        "def multiplicar (a,b):\n",
        "  return a * b\n",
        "\n",
        "def dividir (a, b):\n",
        "  if b==0:\n",
        "    return \"Erro: divisão por zero é inválida\"\n",
        "  return a / b\n",
        "\n",
        "print (\"selecione a operação:\")\n",
        "print (\"1. Somar\")\n",
        "print (\"2. diminuir\")\n",
        "print (\"3. multiplicar\")\n",
        "print (\"4. dividir\")\n",
        "\n",
        "escolha = input(\"Digite o número da operação desejada (1, 2, 3, ou 4): \")\n",
        "\n",
        "if escolha in ('1', '2', '3', '4'):\n",
        "    num1 = float(input(\"Digite o primeiro número: \"))\n",
        "    num2 = float(input(\"Digite o segundo número: \"))\n",
        "\n",
        "    if escolha == '1':\n",
        "        print(\"Resultado: \", somar(num1, num2))\n",
        "    elif escolha == '2':\n",
        "        print(\"Resultado: \", diminuir(num1, num2))\n",
        "    elif escolha == '3':\n",
        "        print(\"Resultado: \", multiplicar(num1, num2))\n",
        "    elif escolha == '4':\n",
        "        print(\"Resultado: \", dividir(num1, num2))\n",
        "else:\n",
        "    print(\"Opção inválida. Por favor, escolha uma operação válida (1, 2, 3, ou 4).\")"
      ]
    }
  ]
}