{
  "nbformat": 4,
  "nbformat_minor": 0,
  "metadata": {
    "colab": {
      "provenance": [],
      "authorship_tag": "ABX9TyN9lK3j8V5U1xzedM9JTGYz",
      "include_colab_link": true
    },
    "kernelspec": {
      "name": "python3",
      "display_name": "Python 3"
    },
    "language_info": {
      "name": "python"
    }
  },
  "cells": [
    {
      "cell_type": "markdown",
      "metadata": {
        "id": "view-in-github",
        "colab_type": "text"
      },
      "source": [
        "<a href=\"https://colab.research.google.com/github/SandroPalhano/Desafio-001---Cumprido/blob/main/Aprendendo_Python_maio_2023.ipynb\" target=\"_parent\"><img src=\"https://colab.research.google.com/assets/colab-badge.svg\" alt=\"Open In Colab\"/></a>"
      ]
    },
    {
      "cell_type": "markdown",
      "source": [
        "Iniciando aulas em Python"
      ],
      "metadata": {
        "id": "PKzEIo4LOrJW"
      }
    },
    {
      "cell_type": "markdown",
      "source": [
        "Function Python"
      ],
      "metadata": {
        "id": "zNOoDoakVDBw"
      }
    },
    {
      "cell_type": "markdown",
      "source": [
        "O que é?\n",
        "As funcions são blocos de código que servem 1 único propósito, fazem uma ação específica"
      ],
      "metadata": {
        "id": "tyfj4auTVNZX"
      }
    },
    {
      "cell_type": "code",
      "source": [
        "vendas = (\"Sandro\", \"05.11.2022\", \"15.09.1973\", 2500, \"Estagiário\")\n",
        "print (vendas)\n"
      ],
      "metadata": {
        "colab": {
          "base_uri": "https://localhost:8080/"
        },
        "id": "1_kkA4G1VpXr",
        "outputId": "7448c51b-dd17-4e42-dbf1-62a7acf487b7"
      },
      "execution_count": null,
      "outputs": [
        {
          "output_type": "stream",
          "name": "stdout",
          "text": [
            "('Sandro', '05.11.2022', '15.09.1973', 2500, 'Estagiário')\n"
          ]
        }
      ]
    },
    {
      "cell_type": "code",
      "source": [
        "nome = vendas[0]\n",
        "data_contratacao = vendas[1]\n",
        "data_nascimento = vendas[2]\n",
        "salario = vendas[3]\n",
        "cargo = vendas[4]\n",
        "print (nome, salario, cargo)\n"
      ],
      "metadata": {
        "colab": {
          "base_uri": "https://localhost:8080/"
        },
        "id": "3ofsm6_ouLds",
        "outputId": "752366f9-ce9c-4661-9b13-99d457ea5368"
      },
      "execution_count": null,
      "outputs": [
        {
          "output_type": "stream",
          "name": "stdout",
          "text": [
            "Sandro 2500 Estagiário\n"
          ]
        }
      ]
    },
    {
      "cell_type": "markdown",
      "source": [
        "Mas fácil é colocar todos em uma única linha..."
      ],
      "metadata": {
        "id": "IzNGlh03ySFu"
      }
    },
    {
      "cell_type": "code",
      "source": [
        "nome, data_contratacao, data_nascimento, salario, cargo = vendas\n",
        "print (nome, salario)"
      ],
      "metadata": {
        "colab": {
          "base_uri": "https://localhost:8080/"
        },
        "id": "bBAnRib5yQxf",
        "outputId": "7ac195d4-f35f-4859-e08d-999a6c159fe2"
      },
      "execution_count": null,
      "outputs": [
        {
          "output_type": "stream",
          "name": "stdout",
          "text": [
            "Sandro 2500\n"
          ]
        }
      ]
    },
    {
      "cell_type": "code",
      "source": [
        "vendas = [1000,2000,3000,150]\n",
        "funcionarios = ['Sandro', 'Palhano', 'Loana', 'Txai']\n",
        "\n",
        "for i, venda in enumerate(vendas):\n",
        "  print('{} vendeu {} unidades'.format(funcionarios[i], venda))"
      ],
      "metadata": {
        "colab": {
          "base_uri": "https://localhost:8080/"
        },
        "id": "M4CiEzTXwr8m",
        "outputId": "8be1e666-9c9a-46e4-96a7-f2bb3284a297"
      },
      "execution_count": null,
      "outputs": [
        {
          "output_type": "stream",
          "name": "stdout",
          "text": [
            "Sandro vendeu 1000 unidades\n",
            "Palhano vendeu 2000 unidades\n",
            "Loana vendeu 3000 unidades\n",
            "Txai vendeu 150 unidades\n"
          ]
        }
      ]
    },
    {
      "cell_type": "markdown",
      "source": [
        "Unpacking Tuplas"
      ],
      "metadata": {
        "id": "-hLMrxW0_aJH"
      }
    },
    {
      "cell_type": "code",
      "source": [
        "Vendas = [\n",
        "         (\"01/11/2022\", \"Caneta Bic\", \"Azul\", \"com tampa\", 200, 5),\n",
        "         (\"01/11/2022\", \"Caneta Bic\", \"Vermelha\", \"com tampa\", 20, 5),\n",
        "         (\"02/11/2022\", \"Caneta Special\", \"Azul\", \"sem tampa\", 100, 10),\n",
        "         (\"02/11/2022\", \"Caneta Bic\", \"Azul\", \"escrita fina\", 30, 6),\n",
        "         (\"03/11/2022\", \"Caneta Bic\", \"vermelha\", \"com tampa\", 15, 4),\n",
        "         (\"01/11/2022\", \"Caneta Bic\", \"Azul\", \"com tampa\", 200, 5),]\n",
        "print (vendas)"
      ],
      "metadata": {
        "colab": {
          "base_uri": "https://localhost:8080/"
        },
        "id": "_DkpXaa8_YhA",
        "outputId": "21468e98-d24b-449c-e6f5-c14a2e4afaaf"
      },
      "execution_count": null,
      "outputs": [
        {
          "output_type": "stream",
          "name": "stdout",
          "text": [
            "[1000, 2000, 3000, 150]\n"
          ]
        }
      ]
    },
    {
      "cell_type": "code",
      "source": [
        "carros = [\n",
        "    {\"marca\": \"Chevrolet\", \"modelo\": \"Onix\", \"ano\": 2021, \"cor\": \"branco\", \"valor\": 60000},\n",
        "    {\"marca\": \"Fiat\", \"modelo\": \"Mobi\", \"ano\": 2020, \"cor\": \"vermelho\", \"valor\": 35000},\n",
        "    {\"marca\": \"Volkswagen\", \"modelo\": \"Gol\", \"ano\": 2019, \"cor\": \"preto\", \"valor\": 40000},\n",
        "    {\"marca\": \"Ford\", \"modelo\": \"Ka\", \"ano\": 2018, \"cor\": \"azul\", \"valor\": 30000},\n",
        "]\n",
        "\n",
        "for carro in carros:\n",
        "    print(f\"Marca: {carro['marca']}\")\n",
        "    print(f\"Modelo: {carro['modelo']}\")\n",
        "    print(f\"Ano: {carro['ano']}\")\n",
        "    print(f\"Cor: {carro['cor']}\")\n",
        "    print(f\"Valor: R${carro['valor']}\\n\")"
      ],
      "metadata": {
        "id": "wiQK2a9EBfNP",
        "colab": {
          "base_uri": "https://localhost:8080/"
        },
        "outputId": "b320ae18-a221-4b82-866d-735f32a7753a"
      },
      "execution_count": 1,
      "outputs": [
        {
          "output_type": "stream",
          "name": "stdout",
          "text": [
            "Marca: Chevrolet\n",
            "Modelo: Onix\n",
            "Ano: 2021\n",
            "Cor: branco\n",
            "Valor: R$60000\n",
            "\n",
            "Marca: Fiat\n",
            "Modelo: Mobi\n",
            "Ano: 2020\n",
            "Cor: vermelho\n",
            "Valor: R$35000\n",
            "\n",
            "Marca: Volkswagen\n",
            "Modelo: Gol\n",
            "Ano: 2019\n",
            "Cor: preto\n",
            "Valor: R$40000\n",
            "\n",
            "Marca: Ford\n",
            "Modelo: Ka\n",
            "Ano: 2018\n",
            "Cor: azul\n",
            "Valor: R$30000\n",
            "\n"
          ]
        }
      ]
    },
    {
      "cell_type": "code",
      "source": [
        "import numpy as np\n",
        "\n",
        "# Lista de carros\n",
        "carros = [\n",
        "    {'marca': 'Fiat', 'modelo': 'Palio', 'ano': 2010, 'cor': 'vermelho', 'valor': 20000},\n",
        "    {'marca': 'Ford', 'modelo': 'Ka', 'ano': 2015, 'cor': 'prata', 'valor': 25000},\n",
        "    {'marca': 'Chevrolet', 'modelo': 'Onix', 'ano': 2020, 'cor': 'branco', 'valor': 40000},\n",
        "    {'marca': 'Renault', 'modelo': 'Sandero', 'ano': 2018, 'cor': 'preto', 'valor': 30000},\n",
        "    {'marca': 'Volkswagen', 'modelo': 'Gol', 'ano': 2012, 'cor': 'azul', 'valor': 22000},\n",
        "    {'marca': 'Toyota', 'modelo': 'Corolla', 'ano': 2016, 'cor': 'prata', 'valor': 55000},\n",
        "    {'marca': 'Honda', 'modelo': 'Civic', 'ano': 2014, 'cor': 'vermelho', 'valor': 45000},\n",
        "    {'marca': 'Nissan', 'modelo': 'Versa', 'ano': 2017, 'cor': 'cinza', 'valor': 32000},\n",
        "    {'marca': 'Hyundai', 'modelo': 'HB20', 'ano': 2019, 'cor': 'branco', 'valor': 38000},\n",
        "    {'marca': 'Kia', 'modelo': 'Sportage', 'ano': 2013, 'cor': 'preto', 'valor': 65000}\n",
        "]\n",
        "\n",
        "# Divide a lista de carros em grupos de 3\n",
        "grupos = np.array_split(carros, len(carros) / 3)\n",
        "\n",
        "# Percorre cada grupo e cria as colunas\n",
        "for grupo in grupos:\n",
        "    print('{:<25}{:<25}{:<25}'.format(grupo[0]['marca'], grupo[1]['marca'], grupo[2]['marca']))\n",
        "    print('{:<25}{:<25}{:<25}'.format(grupo[0]['modelo'], grupo[1]['modelo'], grupo[2]['modelo']))\n",
        "    print('{:<25}{:<25}{:<25}'.format(grupo[0]['ano'], grupo[1]['ano'], grupo[2]['ano']))\n",
        "    print('{:<25}{:<25}{:<25}'.format(grupo[0]['cor'], grupo[1]['cor'], grupo[2]['cor']))\n",
        "    print('{:<25}{:<25}{:<25}\\n'.format(grupo[0]['valor'], grupo[1]['valor'], grupo[2]['valor']))"
      ],
      "metadata": {
        "colab": {
          "base_uri": "https://localhost:8080/"
        },
        "id": "98r9HS6epOUJ",
        "outputId": "311cb334-d0bb-4400-a062-4beff15f941a"
      },
      "execution_count": 2,
      "outputs": [
        {
          "output_type": "stream",
          "name": "stdout",
          "text": [
            "Fiat                     Ford                     Chevrolet                \n",
            "Palio                    Ka                       Onix                     \n",
            "2010                     2015                     2020                     \n",
            "vermelho                 prata                    branco                   \n",
            "20000                    25000                    40000                    \n",
            "\n",
            "Volkswagen               Toyota                   Honda                    \n",
            "Gol                      Corolla                  Civic                    \n",
            "2012                     2016                     2014                     \n",
            "azul                     prata                    vermelho                 \n",
            "22000                    55000                    45000                    \n",
            "\n",
            "Nissan                   Hyundai                  Kia                      \n",
            "Versa                    HB20                     Sportage                 \n",
            "2017                     2019                     2013                     \n",
            "cinza                    branco                   preto                    \n",
            "32000                    38000                    65000                    \n",
            "\n"
          ]
        }
      ]
    },
    {
      "cell_type": "code",
      "source": [
        "import pandas as pd\n",
        "import numpy as np\n",
        "\n",
        "# Lê a planilha em formato CSV e cria uma lista de dicionários com as informações dos veículos\n",
        "planilha = pd.read_csv('caminho/para/planilha.csv')\n",
        "veiculos = planilha.to_dict('records')\n",
        "\n",
        "# Concatena a lista de veículos com a lista de carros já existente\n",
        "carros = carros + veiculos\n",
        "\n",
        "# Divide a lista de carros em grupos de 3\n",
        "grupos = np.array_split(carros, len(carros) / 3)\n",
        "\n",
        "# Percorre cada grupo e cria as colunas\n",
        "for grupo in grupos:\n",
        "    print('{:<25}{:<25}{:<25}'.format(grupo[0]['marca'], grupo[1]['marca'], grupo[2]['marca']))\n",
        "    print('{:<25}{:<25}{:<25}'.format(grupo[0]['modelo'], grupo[1]['modelo'], grupo[2]['modelo']))\n",
        "    print('{:<25}{:<25}{:<25}'.format(grupo[0]['ano'], grupo[1]['ano'], grupo[2]['ano']))\n",
        "    print('{:<25}{:<25}{:<25}'.format(grupo[0]['cor'], grupo[1]['cor'], grupo[2]['cor']))\n",
        "    print('{:<25}{:<25}{:<25}\\n'.format(grupo[0]['valor'], grupo[1]['valor'], grupo[2]['valor']))"
      ],
      "metadata": {
        "colab": {
          "base_uri": "https://localhost:8080/",
          "height": 411
        },
        "id": "m18MgsaPp-7f",
        "outputId": "24c3bff6-240d-4b09-8af2-a5b11c0f2d27"
      },
      "execution_count": 3,
      "outputs": [
        {
          "output_type": "error",
          "ename": "FileNotFoundError",
          "evalue": "ignored",
          "traceback": [
            "\u001b[0;31m---------------------------------------------------------------------------\u001b[0m",
            "\u001b[0;31mFileNotFoundError\u001b[0m                         Traceback (most recent call last)",
            "\u001b[0;32m<ipython-input-3-b9e7b74286cd>\u001b[0m in \u001b[0;36m<cell line: 5>\u001b[0;34m()\u001b[0m\n\u001b[1;32m      3\u001b[0m \u001b[0;34m\u001b[0m\u001b[0m\n\u001b[1;32m      4\u001b[0m \u001b[0;31m# Lê a planilha em formato CSV e cria uma lista de dicionários com as informações dos veículos\u001b[0m\u001b[0;34m\u001b[0m\u001b[0;34m\u001b[0m\u001b[0m\n\u001b[0;32m----> 5\u001b[0;31m \u001b[0mplanilha\u001b[0m \u001b[0;34m=\u001b[0m \u001b[0mpd\u001b[0m\u001b[0;34m.\u001b[0m\u001b[0mread_csv\u001b[0m\u001b[0;34m(\u001b[0m\u001b[0;34m'caminho/para/planilha.csv'\u001b[0m\u001b[0;34m)\u001b[0m\u001b[0;34m\u001b[0m\u001b[0;34m\u001b[0m\u001b[0m\n\u001b[0m\u001b[1;32m      6\u001b[0m \u001b[0mveiculos\u001b[0m \u001b[0;34m=\u001b[0m \u001b[0mplanilha\u001b[0m\u001b[0;34m.\u001b[0m\u001b[0mto_dict\u001b[0m\u001b[0;34m(\u001b[0m\u001b[0;34m'records'\u001b[0m\u001b[0;34m)\u001b[0m\u001b[0;34m\u001b[0m\u001b[0;34m\u001b[0m\u001b[0m\n\u001b[1;32m      7\u001b[0m \u001b[0;34m\u001b[0m\u001b[0m\n",
            "\u001b[0;32m/usr/local/lib/python3.10/dist-packages/pandas/util/_decorators.py\u001b[0m in \u001b[0;36mwrapper\u001b[0;34m(*args, **kwargs)\u001b[0m\n\u001b[1;32m    209\u001b[0m                 \u001b[0;32melse\u001b[0m\u001b[0;34m:\u001b[0m\u001b[0;34m\u001b[0m\u001b[0;34m\u001b[0m\u001b[0m\n\u001b[1;32m    210\u001b[0m                     \u001b[0mkwargs\u001b[0m\u001b[0;34m[\u001b[0m\u001b[0mnew_arg_name\u001b[0m\u001b[0;34m]\u001b[0m \u001b[0;34m=\u001b[0m \u001b[0mnew_arg_value\u001b[0m\u001b[0;34m\u001b[0m\u001b[0;34m\u001b[0m\u001b[0m\n\u001b[0;32m--> 211\u001b[0;31m             \u001b[0;32mreturn\u001b[0m \u001b[0mfunc\u001b[0m\u001b[0;34m(\u001b[0m\u001b[0;34m*\u001b[0m\u001b[0margs\u001b[0m\u001b[0;34m,\u001b[0m \u001b[0;34m**\u001b[0m\u001b[0mkwargs\u001b[0m\u001b[0;34m)\u001b[0m\u001b[0;34m\u001b[0m\u001b[0;34m\u001b[0m\u001b[0m\n\u001b[0m\u001b[1;32m    212\u001b[0m \u001b[0;34m\u001b[0m\u001b[0m\n\u001b[1;32m    213\u001b[0m         \u001b[0;32mreturn\u001b[0m \u001b[0mcast\u001b[0m\u001b[0;34m(\u001b[0m\u001b[0mF\u001b[0m\u001b[0;34m,\u001b[0m \u001b[0mwrapper\u001b[0m\u001b[0;34m)\u001b[0m\u001b[0;34m\u001b[0m\u001b[0;34m\u001b[0m\u001b[0m\n",
            "\u001b[0;32m/usr/local/lib/python3.10/dist-packages/pandas/util/_decorators.py\u001b[0m in \u001b[0;36mwrapper\u001b[0;34m(*args, **kwargs)\u001b[0m\n\u001b[1;32m    329\u001b[0m                     \u001b[0mstacklevel\u001b[0m\u001b[0;34m=\u001b[0m\u001b[0mfind_stack_level\u001b[0m\u001b[0;34m(\u001b[0m\u001b[0;34m)\u001b[0m\u001b[0;34m,\u001b[0m\u001b[0;34m\u001b[0m\u001b[0;34m\u001b[0m\u001b[0m\n\u001b[1;32m    330\u001b[0m                 )\n\u001b[0;32m--> 331\u001b[0;31m             \u001b[0;32mreturn\u001b[0m \u001b[0mfunc\u001b[0m\u001b[0;34m(\u001b[0m\u001b[0;34m*\u001b[0m\u001b[0margs\u001b[0m\u001b[0;34m,\u001b[0m \u001b[0;34m**\u001b[0m\u001b[0mkwargs\u001b[0m\u001b[0;34m)\u001b[0m\u001b[0;34m\u001b[0m\u001b[0;34m\u001b[0m\u001b[0m\n\u001b[0m\u001b[1;32m    332\u001b[0m \u001b[0;34m\u001b[0m\u001b[0m\n\u001b[1;32m    333\u001b[0m         \u001b[0;31m# error: \"Callable[[VarArg(Any), KwArg(Any)], Any]\" has no\u001b[0m\u001b[0;34m\u001b[0m\u001b[0;34m\u001b[0m\u001b[0m\n",
            "\u001b[0;32m/usr/local/lib/python3.10/dist-packages/pandas/io/parsers/readers.py\u001b[0m in \u001b[0;36mread_csv\u001b[0;34m(filepath_or_buffer, sep, delimiter, header, names, index_col, usecols, squeeze, prefix, mangle_dupe_cols, dtype, engine, converters, true_values, false_values, skipinitialspace, skiprows, skipfooter, nrows, na_values, keep_default_na, na_filter, verbose, skip_blank_lines, parse_dates, infer_datetime_format, keep_date_col, date_parser, dayfirst, cache_dates, iterator, chunksize, compression, thousands, decimal, lineterminator, quotechar, quoting, doublequote, escapechar, comment, encoding, encoding_errors, dialect, error_bad_lines, warn_bad_lines, on_bad_lines, delim_whitespace, low_memory, memory_map, float_precision, storage_options)\u001b[0m\n\u001b[1;32m    948\u001b[0m     \u001b[0mkwds\u001b[0m\u001b[0;34m.\u001b[0m\u001b[0mupdate\u001b[0m\u001b[0;34m(\u001b[0m\u001b[0mkwds_defaults\u001b[0m\u001b[0;34m)\u001b[0m\u001b[0;34m\u001b[0m\u001b[0;34m\u001b[0m\u001b[0m\n\u001b[1;32m    949\u001b[0m \u001b[0;34m\u001b[0m\u001b[0m\n\u001b[0;32m--> 950\u001b[0;31m     \u001b[0;32mreturn\u001b[0m \u001b[0m_read\u001b[0m\u001b[0;34m(\u001b[0m\u001b[0mfilepath_or_buffer\u001b[0m\u001b[0;34m,\u001b[0m \u001b[0mkwds\u001b[0m\u001b[0;34m)\u001b[0m\u001b[0;34m\u001b[0m\u001b[0;34m\u001b[0m\u001b[0m\n\u001b[0m\u001b[1;32m    951\u001b[0m \u001b[0;34m\u001b[0m\u001b[0m\n\u001b[1;32m    952\u001b[0m \u001b[0;34m\u001b[0m\u001b[0m\n",
            "\u001b[0;32m/usr/local/lib/python3.10/dist-packages/pandas/io/parsers/readers.py\u001b[0m in \u001b[0;36m_read\u001b[0;34m(filepath_or_buffer, kwds)\u001b[0m\n\u001b[1;32m    603\u001b[0m \u001b[0;34m\u001b[0m\u001b[0m\n\u001b[1;32m    604\u001b[0m     \u001b[0;31m# Create the parser.\u001b[0m\u001b[0;34m\u001b[0m\u001b[0;34m\u001b[0m\u001b[0m\n\u001b[0;32m--> 605\u001b[0;31m     \u001b[0mparser\u001b[0m \u001b[0;34m=\u001b[0m \u001b[0mTextFileReader\u001b[0m\u001b[0;34m(\u001b[0m\u001b[0mfilepath_or_buffer\u001b[0m\u001b[0;34m,\u001b[0m \u001b[0;34m**\u001b[0m\u001b[0mkwds\u001b[0m\u001b[0;34m)\u001b[0m\u001b[0;34m\u001b[0m\u001b[0;34m\u001b[0m\u001b[0m\n\u001b[0m\u001b[1;32m    606\u001b[0m \u001b[0;34m\u001b[0m\u001b[0m\n\u001b[1;32m    607\u001b[0m     \u001b[0;32mif\u001b[0m \u001b[0mchunksize\u001b[0m \u001b[0;32mor\u001b[0m \u001b[0miterator\u001b[0m\u001b[0;34m:\u001b[0m\u001b[0;34m\u001b[0m\u001b[0;34m\u001b[0m\u001b[0m\n",
            "\u001b[0;32m/usr/local/lib/python3.10/dist-packages/pandas/io/parsers/readers.py\u001b[0m in \u001b[0;36m__init__\u001b[0;34m(self, f, engine, **kwds)\u001b[0m\n\u001b[1;32m   1440\u001b[0m \u001b[0;34m\u001b[0m\u001b[0m\n\u001b[1;32m   1441\u001b[0m         \u001b[0mself\u001b[0m\u001b[0;34m.\u001b[0m\u001b[0mhandles\u001b[0m\u001b[0;34m:\u001b[0m \u001b[0mIOHandles\u001b[0m \u001b[0;34m|\u001b[0m \u001b[0;32mNone\u001b[0m \u001b[0;34m=\u001b[0m \u001b[0;32mNone\u001b[0m\u001b[0;34m\u001b[0m\u001b[0;34m\u001b[0m\u001b[0m\n\u001b[0;32m-> 1442\u001b[0;31m         \u001b[0mself\u001b[0m\u001b[0;34m.\u001b[0m\u001b[0m_engine\u001b[0m \u001b[0;34m=\u001b[0m \u001b[0mself\u001b[0m\u001b[0;34m.\u001b[0m\u001b[0m_make_engine\u001b[0m\u001b[0;34m(\u001b[0m\u001b[0mf\u001b[0m\u001b[0;34m,\u001b[0m \u001b[0mself\u001b[0m\u001b[0;34m.\u001b[0m\u001b[0mengine\u001b[0m\u001b[0;34m)\u001b[0m\u001b[0;34m\u001b[0m\u001b[0;34m\u001b[0m\u001b[0m\n\u001b[0m\u001b[1;32m   1443\u001b[0m \u001b[0;34m\u001b[0m\u001b[0m\n\u001b[1;32m   1444\u001b[0m     \u001b[0;32mdef\u001b[0m \u001b[0mclose\u001b[0m\u001b[0;34m(\u001b[0m\u001b[0mself\u001b[0m\u001b[0;34m)\u001b[0m \u001b[0;34m->\u001b[0m \u001b[0;32mNone\u001b[0m\u001b[0;34m:\u001b[0m\u001b[0;34m\u001b[0m\u001b[0;34m\u001b[0m\u001b[0m\n",
            "\u001b[0;32m/usr/local/lib/python3.10/dist-packages/pandas/io/parsers/readers.py\u001b[0m in \u001b[0;36m_make_engine\u001b[0;34m(self, f, engine)\u001b[0m\n\u001b[1;32m   1733\u001b[0m                 \u001b[0;32mif\u001b[0m \u001b[0;34m\"b\"\u001b[0m \u001b[0;32mnot\u001b[0m \u001b[0;32min\u001b[0m \u001b[0mmode\u001b[0m\u001b[0;34m:\u001b[0m\u001b[0;34m\u001b[0m\u001b[0;34m\u001b[0m\u001b[0m\n\u001b[1;32m   1734\u001b[0m                     \u001b[0mmode\u001b[0m \u001b[0;34m+=\u001b[0m \u001b[0;34m\"b\"\u001b[0m\u001b[0;34m\u001b[0m\u001b[0;34m\u001b[0m\u001b[0m\n\u001b[0;32m-> 1735\u001b[0;31m             self.handles = get_handle(\n\u001b[0m\u001b[1;32m   1736\u001b[0m                 \u001b[0mf\u001b[0m\u001b[0;34m,\u001b[0m\u001b[0;34m\u001b[0m\u001b[0;34m\u001b[0m\u001b[0m\n\u001b[1;32m   1737\u001b[0m                 \u001b[0mmode\u001b[0m\u001b[0;34m,\u001b[0m\u001b[0;34m\u001b[0m\u001b[0;34m\u001b[0m\u001b[0m\n",
            "\u001b[0;32m/usr/local/lib/python3.10/dist-packages/pandas/io/common.py\u001b[0m in \u001b[0;36mget_handle\u001b[0;34m(path_or_buf, mode, encoding, compression, memory_map, is_text, errors, storage_options)\u001b[0m\n\u001b[1;32m    854\u001b[0m         \u001b[0;32mif\u001b[0m \u001b[0mioargs\u001b[0m\u001b[0;34m.\u001b[0m\u001b[0mencoding\u001b[0m \u001b[0;32mand\u001b[0m \u001b[0;34m\"b\"\u001b[0m \u001b[0;32mnot\u001b[0m \u001b[0;32min\u001b[0m \u001b[0mioargs\u001b[0m\u001b[0;34m.\u001b[0m\u001b[0mmode\u001b[0m\u001b[0;34m:\u001b[0m\u001b[0;34m\u001b[0m\u001b[0;34m\u001b[0m\u001b[0m\n\u001b[1;32m    855\u001b[0m             \u001b[0;31m# Encoding\u001b[0m\u001b[0;34m\u001b[0m\u001b[0;34m\u001b[0m\u001b[0m\n\u001b[0;32m--> 856\u001b[0;31m             handle = open(\n\u001b[0m\u001b[1;32m    857\u001b[0m                 \u001b[0mhandle\u001b[0m\u001b[0;34m,\u001b[0m\u001b[0;34m\u001b[0m\u001b[0;34m\u001b[0m\u001b[0m\n\u001b[1;32m    858\u001b[0m                 \u001b[0mioargs\u001b[0m\u001b[0;34m.\u001b[0m\u001b[0mmode\u001b[0m\u001b[0;34m,\u001b[0m\u001b[0;34m\u001b[0m\u001b[0;34m\u001b[0m\u001b[0m\n",
            "\u001b[0;31mFileNotFoundError\u001b[0m: [Errno 2] No such file or directory: 'caminho/para/planilha.csv'"
          ]
        }
      ]
    }
  ]
}