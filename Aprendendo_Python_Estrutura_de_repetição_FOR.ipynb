{
  "nbformat": 4,
  "nbformat_minor": 0,
  "metadata": {
    "colab": {
      "provenance": [],
      "authorship_tag": "ABX9TyM+TrE1l+i/8YkM4G1fGV7O",
      "include_colab_link": true
    },
    "kernelspec": {
      "name": "python3",
      "display_name": "Python 3"
    },
    "language_info": {
      "name": "python"
    }
  },
  "cells": [
    {
      "cell_type": "markdown",
      "metadata": {
        "id": "view-in-github",
        "colab_type": "text"
      },
      "source": [
        "<a href=\"https://colab.research.google.com/github/SandroPalhano/Desafio-001---Cumprido/blob/main/Aprendendo_Python_Estrutura_de_repeti%C3%A7%C3%A3o_FOR.ipynb\" target=\"_parent\"><img src=\"https://colab.research.google.com/assets/colab-badge.svg\" alt=\"Open In Colab\"/></a>"
      ]
    },
    {
      "cell_type": "markdown",
      "source": [
        "Estrutura de Repetição FOR: Ex. Crie um código que repita de 1 a 5 números em uma única coluna."
      ],
      "metadata": {
        "id": "s00GYdfU-E2i"
      }
    },
    {
      "cell_type": "code",
      "execution_count": 40,
      "metadata": {
        "colab": {
          "base_uri": "https://localhost:8080/"
        },
        "id": "YEIQtuZR-DY9",
        "outputId": "5c165e6c-317a-4dc3-fb66-640a6d015b63"
      },
      "outputs": [
        {
          "output_type": "stream",
          "name": "stdout",
          "text": [
            "1\n",
            "2\n",
            "3\n",
            "4\n",
            "5\n"
          ]
        }
      ],
      "source": [
        "for numero in range(1, 6):\n",
        "    print(numero)\n"
      ]
    },
    {
      "cell_type": "markdown",
      "source": [
        "Usando uma lista com nomes:"
      ],
      "metadata": {
        "id": "NglO7IiK-D-u"
      }
    },
    {
      "cell_type": "code",
      "source": [
        "nomes = [\"Ana\", \"João\", \"Maria\", \"Pedro\", \"Sandro\", \"Loana\"]\n",
        "\n",
        "for nome in nomes:\n",
        "    print(nome)"
      ],
      "metadata": {
        "colab": {
          "base_uri": "https://localhost:8080/"
        },
        "id": "W0emUB4a-x7e",
        "outputId": "ac12fc5c-9670-4790-ecf9-2b8608c984a8"
      },
      "execution_count": 41,
      "outputs": [
        {
          "output_type": "stream",
          "name": "stdout",
          "text": [
            "Ana\n",
            "João\n",
            "Maria\n",
            "Pedro\n",
            "Sandro\n",
            "Loana\n"
          ]
        }
      ]
    },
    {
      "cell_type": "markdown",
      "source": [
        "O mesmo código só que em colunas:"
      ],
      "metadata": {
        "id": "BKq5yrHn-1xK"
      }
    },
    {
      "cell_type": "code",
      "source": [
        "nomes = [\"Ana\", \"João\", \"Maria\", \"Pedro\", \"Sandro\"]\n",
        "\n",
        "for i in range(0, len(nomes),2):\n",
        "    print('{:<15} {:<15}'.format(nomes[i], nomes[i+1] if i+1 < len(nomes) else ''))"
      ],
      "metadata": {
        "colab": {
          "base_uri": "https://localhost:8080/"
        },
        "id": "zAxEUlqE-9TD",
        "outputId": "74134405-6ac7-40fb-c617-c01d7215eeee"
      },
      "execution_count": 42,
      "outputs": [
        {
          "output_type": "stream",
          "name": "stdout",
          "text": [
            "Ana             João           \n",
            "Maria           Pedro          \n",
            "Sandro                         \n"
          ]
        }
      ]
    },
    {
      "cell_type": "markdown",
      "source": [
        "Você está construindo uma automação para enviar todo dia por e-mail um resumo da produção de uma fábrica. Construa um código que exibe a quantidade produzida de cada um desses produtos no email.:\n",
        "produtos: coca, pepsi, guaraná, sprite e fanta\n",
        "produção: 15.000, 12.000, 13.000, 5.000 e 250 respectivamente"
      ],
      "metadata": {
        "id": "lCzSqPFLAGac"
      }
    },
    {
      "cell_type": "code",
      "source": [
        "produtos = [\"coca\", \"pepsi\", \"guaraná\", \"sprite\", \"fanta\", \"água\"]\n",
        "producao = [15000, 12000, 13000, 5000, 250, 20000]\n",
        "\n",
        "corpo_email = \"\\nResumo da Produção Diária:\\n\\n\"\n",
        "for i in range(len(produtos)):  # O i nesse caso é o índice de repetição.\n",
        "    corpo_email += f\"{produtos[i]}: {producao[i]}\\n\"\n",
        "\n",
        "print(\"A quantidade produzidas dos produtos é a seguinte... \", corpo_email)\n"
      ],
      "metadata": {
        "colab": {
          "base_uri": "https://localhost:8080/"
        },
        "id": "pGqLimWT_7tS",
        "outputId": "b54c84fc-9a5c-4b0e-9ad9-9c87d27c21eb"
      },
      "execution_count": 43,
      "outputs": [
        {
          "output_type": "stream",
          "name": "stdout",
          "text": [
            "A quantidade produzidas dos produtos é a seguinte...  \n",
            "Resumo da Produção Diária:\n",
            "\n",
            "coca: 15000\n",
            "pepsi: 12000\n",
            "guaraná: 13000\n",
            "sprite: 5000\n",
            "fanta: 250\n",
            "água: 20000\n",
            "\n"
          ]
        }
      ]
    },
    {
      "cell_type": "code",
      "source": [
        "frutas = (\"abacate\", \"maçã\", \"pêra\", \"uva\", \"Kiwi\")\n",
        "for item in frutas:\n",
        "  print(item)"
      ],
      "metadata": {
        "colab": {
          "base_uri": "https://localhost:8080/"
        },
        "id": "ggGHBMIFEErM",
        "outputId": "9a644c3b-0cb4-44de-e53e-7b8f2b9b2875"
      },
      "execution_count": 44,
      "outputs": [
        {
          "output_type": "stream",
          "name": "stdout",
          "text": [
            "abacate\n",
            "maçã\n",
            "pêra\n",
            "uva\n",
            "Kiwi\n"
          ]
        }
      ]
    },
    {
      "cell_type": "code",
      "source": [
        "frutas = (\"abacate\", \"maçã\", \"pêra\", \"uva\", \"Kiwi\")\n",
        "for fruta in frutas:\n",
        "  print(\"Minha fruta preferida é: {} \".format(fruta))"
      ],
      "metadata": {
        "colab": {
          "base_uri": "https://localhost:8080/"
        },
        "id": "QQMyVPyvGYgh",
        "outputId": "90529395-9ed6-4c52-e5e1-fd1fed3d970d"
      },
      "execution_count": 50,
      "outputs": [
        {
          "output_type": "stream",
          "name": "stdout",
          "text": [
            "Minha fruta preferida é: abacate \n",
            "Minha fruta preferida é: maçã \n",
            "Minha fruta preferida é: pêra \n",
            "Minha fruta preferida é: uva \n",
            "Minha fruta preferida é: Kiwi \n"
          ]
        }
      ]
    },
    {
      "cell_type": "markdown",
      "source": [
        "Enumerate - Item da Lista: Mostra o número de cada item da lista..."
      ],
      "metadata": {
        "id": "y01EJ4mkqCsI"
      }
    },
    {
      "cell_type": "code",
      "source": [
        "funcionarios = [\"João\", \"Maria\", \"Pedro\", \"Ana\"]\n",
        "\n",
        "for numero, funcionario in enumerate(funcionarios, start=1):\n",
        "    print(f\"Funcionário {numero}: {funcionario}\")"
      ],
      "metadata": {
        "colab": {
          "base_uri": "https://localhost:8080/"
        },
        "id": "OWDjIWZGMlzB",
        "outputId": "2beeb906-fa36-4ce5-9253-7d3fdc979c78"
      },
      "execution_count": 2,
      "outputs": [
        {
          "output_type": "stream",
          "name": "stdout",
          "text": [
            "Funcionário 0: João\n",
            "Funcionário 1: Maria\n",
            "Funcionário 2: Pedro\n",
            "Funcionário 3: Ana\n"
          ]
        }
      ]
    },
    {
      "cell_type": "markdown",
      "source": [
        "ok"
      ],
      "metadata": {
        "id": "PVn9ZMppq9V8"
      }
    },
    {
      "cell_type": "code",
      "source": [
        "for x in range (3,30, 3):\n",
        "  print(x)"
      ],
      "metadata": {
        "colab": {
          "base_uri": "https://localhost:8080/"
        },
        "id": "uqwTadgtuqMs",
        "outputId": "47853798-c0af-4585-863b-9298372d892c"
      },
      "execution_count": 5,
      "outputs": [
        {
          "output_type": "stream",
          "name": "stdout",
          "text": [
            "3\n",
            "6\n",
            "9\n",
            "12\n",
            "15\n",
            "18\n",
            "21\n",
            "24\n",
            "27\n"
          ]
        }
      ]
    }
  ]
}