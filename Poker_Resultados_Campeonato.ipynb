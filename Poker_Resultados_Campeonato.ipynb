{
  "nbformat": 4,
  "nbformat_minor": 0,
  "metadata": {
    "colab": {
      "provenance": [],
      "authorship_tag": "ABX9TyMUfx32IngMPUEB1BoeGams",
      "include_colab_link": true
    },
    "kernelspec": {
      "name": "python3",
      "display_name": "Python 3"
    },
    "language_info": {
      "name": "python"
    }
  },
  "cells": [
    {
      "cell_type": "markdown",
      "metadata": {
        "id": "view-in-github",
        "colab_type": "text"
      },
      "source": [
        "<a href=\"https://colab.research.google.com/github/SandroPalhano/Desafio-001---Cumprido/blob/main/Poker_Resultados_Campeonato.ipynb\" target=\"_parent\"><img src=\"https://colab.research.google.com/assets/colab-badge.svg\" alt=\"Open In Colab\"/></a>"
      ]
    },
    {
      "cell_type": "markdown",
      "source": [
        "Tabela de Jogadores:"
      ],
      "metadata": {
        "id": "1GFDLh32voMV"
      }
    },
    {
      "cell_type": "code",
      "execution_count": 1,
      "metadata": {
        "colab": {
          "base_uri": "https://localhost:8080/",
          "height": 0
        },
        "id": "8mx7P852vhJI",
        "outputId": "35093efd-299a-4652-81d8-e96c796ccf1f"
      },
      "outputs": [
        {
          "output_type": "stream",
          "name": "stdout",
          "text": [
            "01: Adriano\n",
            "02: André\n",
            "03: Charles\n",
            "04: Eduardo\n",
            "05: Fernanda\n",
            "06: Halina\n",
            "07: Israel\n",
            "08: Jean\n",
            "09: Juliana\n",
            "10: Júnior\n",
            "11: Liana\n",
            "12: Loana\n",
            "13: Mari\n",
            "14: Matheus\n",
            "15: Maycon\n",
            "16: Paulo\n",
            "17: Rafael\n",
            "18: Ricardo\n",
            "19: Rosangela\n",
            "20: Sandro\n",
            "21: Stella\n",
            "22: Victor\n",
            "23: Vinicius\n",
            "\n",
            "Colunas:\n",
            "['Jogo 01', 'Jogo 02', 'Jogo 03', 'Jogo 04', 'Jogo 05', 'Jogo 06', 'Jogo 07', 'Jogo 08', 'Jogo 09', 'Jogo 10', 'Jogo 11']\n"
          ]
        }
      ],
      "source": [
        "jogadores = [\n",
        "    \"Adriano\", \"André\", \"Charles\", \"Eduardo\", \"Fernanda\", \"Halina\", \"Israel\", \"Jean\",\n",
        "    \"Juliana\", \"Júnior\", \"Liana\", \"Loana\", \"Mari\", \"Matheus\", \"Maycon\", \"Paulo\",\n",
        "    \"Rafael\", \"Ricardo\", \"Rosangela\", \"Sandro\", \"Stella\", \"Vinicius\", \"Victor\"\n",
        "]\n",
        "\n",
        "colunas = [\"Jogo {:02d}\".format(i) for i in range(1, 12)]\n",
        "\n",
        "lista_jogadores = list(enumerate(sorted(jogadores, key=str.lower), start=1))\n",
        "\n",
        "for jogador in lista_jogadores:\n",
        "    print(\"{:02d}: {}\".format(jogador[0], jogador[1]))\n",
        "\n",
        "print(\"\\nColunas:\")\n",
        "print(colunas)"
      ]
    },
    {
      "cell_type": "markdown",
      "source": [
        "Agora uma tabela com o nome e os jogos de cada jogador..."
      ],
      "metadata": {
        "id": "VHmcu5NMvnOW"
      }
    },
    {
      "cell_type": "code",
      "source": [
        "jogadores = [\n",
        "    \"Adriano\", \"André\", \"Charles\", \"Eduardo\", \"Fernanda\", \"Halina\", \"Israel\", \"Jean\",\n",
        "    \"Juliana\", \"Júnior\", \"Liana\", \"Loana\", \"Mari\", \"Matheus\", \"Maycon\", \"Paulo\",\n",
        "    \"Rafael\", \"Ricardo\", \"Rosangela\", \"Sandro\", \"Stella\", \"Vinicius\", \"Victor\",\"Edson\"\n",
        "]\n",
        "\n",
        "colunas = [\"    {:02d}\".format(i) for i in range(1, 12)]\n",
        "\n",
        "tabela = []\n",
        "for i, jogador in enumerate(sorted(jogadores, key=str.lower), start=1):\n",
        "    linha = [str(i).zfill(2), jogador] + [\"\"] * 11\n",
        "    tabela.append(linha)\n",
        "\n",
        "for i in range(11):\n",
        "    for j, linha in enumerate(tabela):\n",
        "        linha[i + 2] = str(i + 1).zfill(2)\n",
        "\n",
        "print(\"Núm.    Jogador \", end=\"\")\n",
        "for coluna in colunas:\n",
        "    print(coluna, end=\"    \")\n",
        "print()\n",
        "\n",
        "for linha in tabela:\n",
        "    print(\"{:7s} {:12s}\".format(linha[0], linha[1]), end=\"\")\n",
        "    for i in range(5, 13):\n",
        "        print(\"{:10s}\".format(linha[i]), end=\"\")\n",
        "    print()"
      ],
      "metadata": {
        "colab": {
          "base_uri": "https://localhost:8080/"
        },
        "id": "ca-YLwn4yWPX",
        "outputId": "2a2b9e37-7cb4-4b5e-c6bd-339f3c136b10"
      },
      "execution_count": 57,
      "outputs": [
        {
          "output_type": "stream",
          "name": "stdout",
          "text": [
            "Núm.    Jogador     01        02        03        04        05        06        07        08        09        10        11    \n",
            "01      Adriano     04        05        06        07        08        09        10        11        \n",
            "02      André       04        05        06        07        08        09        10        11        \n",
            "03      Charles     04        05        06        07        08        09        10        11        \n",
            "04      Edson       04        05        06        07        08        09        10        11        \n",
            "05      Eduardo     04        05        06        07        08        09        10        11        \n",
            "06      Fernanda    04        05        06        07        08        09        10        11        \n",
            "07      Halina      04        05        06        07        08        09        10        11        \n",
            "08      Israel      04        05        06        07        08        09        10        11        \n",
            "09      Jean        04        05        06        07        08        09        10        11        \n",
            "10      Juliana     04        05        06        07        08        09        10        11        \n",
            "11      Júnior      04        05        06        07        08        09        10        11        \n",
            "12      Liana       04        05        06        07        08        09        10        11        \n",
            "13      Loana       04        05        06        07        08        09        10        11        \n",
            "14      Mari        04        05        06        07        08        09        10        11        \n",
            "15      Matheus     04        05        06        07        08        09        10        11        \n",
            "16      Maycon      04        05        06        07        08        09        10        11        \n",
            "17      Paulo       04        05        06        07        08        09        10        11        \n",
            "18      Rafael      04        05        06        07        08        09        10        11        \n",
            "19      Ricardo     04        05        06        07        08        09        10        11        \n",
            "20      Rosangela   04        05        06        07        08        09        10        11        \n",
            "21      Sandro      04        05        06        07        08        09        10        11        \n",
            "22      Stella      04        05        06        07        08        09        10        11        \n",
            "23      Victor      04        05        06        07        08        09        10        11        \n",
            "24      Vinicius    04        05        06        07        08        09        10        11        \n"
          ]
        }
      ]
    },
    {
      "cell_type": "code",
      "source": [
        "jogadores = [\n",
        "    \"Adriano\", \"André\", \"Charles\", \"Eduardo\", \"Fernanda\", \"Halina\", \"Israel\", \"Jean\",\n",
        "    \"Juliana\", \"Júnior\", \"Liana\", \"Loana\", \"Mari\", \"Matheus\", \"Maycon\", \"Paulo\",\n",
        "    \"Rafael\", \"Ricardo\", \"Rosangela\", \"Sandro\", \"Stella\", \"Vinicius\", \"Victor\",\"Edson\"\n",
        "]\n",
        "\n",
        "colunas = [\" {:02d}\".format(i) for i in range(1, 12)]\n",
        "\n",
        "tabela = []\n",
        "for i, jogador in enumerate(sorted(jogadores, key=str.lower), start=1):\n",
        "    linha = [str(i).zfill(2), jogador] + [\"\"] * 11\n",
        "    tabela.append(linha)\n",
        "\n",
        "print(\"{:<8s} {:<8s}\".format(\"Núm\", \"Jogador\"), end=\"\")\n",
        "for coluna in colunas:\n",
        "    print(\"{:<6s}\".format(coluna), end=\"\")\n",
        "print()\n",
        "print()\n",
        "\n",
        "for linha in tabela:\n",
        "    print(\"{:<8s} {:<8s}\".format(linha[0], linha[1]), end=\"\")\n",
        "    for i in range(2, 13):\n",
        "        print(\"{:<8s}\".format(linha[i]), end=\"\")\n",
        "    print('\\n'*1)\n",
        "    \n",
        "    \n"
      ],
      "metadata": {
        "colab": {
          "base_uri": "https://localhost:8080/"
        },
        "id": "gFxmw5LO1taI",
        "outputId": "fe74cca6-0f71-48a7-d950-27b256fcf957"
      },
      "execution_count": 97,
      "outputs": [
        {
          "output_type": "stream",
          "name": "stdout",
          "text": [
            "Núm      Jogador  01    02    03    04    05    06    07    08    09    10    11   \n",
            "\n",
            "01       Adriano                                                                                         \n",
            "\n",
            "02       André                                                                                           \n",
            "\n",
            "03       Charles                                                                                         \n",
            "\n",
            "04       Edson                                                                                           \n",
            "\n",
            "05       Eduardo                                                                                         \n",
            "\n",
            "06       Fernanda                                                                                        \n",
            "\n",
            "07       Halina                                                                                          \n",
            "\n",
            "08       Israel                                                                                          \n",
            "\n",
            "09       Jean                                                                                            \n",
            "\n",
            "10       Juliana                                                                                         \n",
            "\n",
            "11       Júnior                                                                                          \n",
            "\n",
            "12       Liana                                                                                           \n",
            "\n",
            "13       Loana                                                                                           \n",
            "\n",
            "14       Mari                                                                                            \n",
            "\n",
            "15       Matheus                                                                                         \n",
            "\n",
            "16       Maycon                                                                                          \n",
            "\n",
            "17       Paulo                                                                                           \n",
            "\n",
            "18       Rafael                                                                                          \n",
            "\n",
            "19       Ricardo                                                                                         \n",
            "\n",
            "20       Rosangela                                                                                        \n",
            "\n",
            "21       Sandro                                                                                          \n",
            "\n",
            "22       Stella                                                                                          \n",
            "\n",
            "23       Victor                                                                                          \n",
            "\n",
            "24       Vinicius                                                                                        \n",
            "\n"
          ]
        }
      ]
    }
  ]
}