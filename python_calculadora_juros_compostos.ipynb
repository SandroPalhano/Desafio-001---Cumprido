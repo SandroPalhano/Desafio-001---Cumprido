{
  "nbformat": 4,
  "nbformat_minor": 0,
  "metadata": {
    "colab": {
      "provenance": [],
      "name": "python-calculadora juros compostos.ipynb",
      "authorship_tag": "ABX9TyOBcuHobG35Lzji3/NyIFXr",
      "include_colab_link": true
    },
    "kernelspec": {
      "name": "python3",
      "display_name": "Python 3"
    },
    "language_info": {
      "name": "python"
    }
  },
  "cells": [
    {
      "cell_type": "markdown",
      "metadata": {
        "id": "view-in-github",
        "colab_type": "text"
      },
      "source": [
        "<a href=\"https://colab.research.google.com/github/SandroPalhano/Desafio-001---Cumprido/blob/main/python_calculadora_juros_compostos.ipynb\" target=\"_parent\"><img src=\"https://colab.research.google.com/assets/colab-badge.svg\" alt=\"Open In Colab\"/></a>"
      ]
    },
    {
      "cell_type": "code",
      "source": [
        "def calcular_juros_compostos(capital_inicial, taxa_de_juros, periodo):\n",
        "    montante = capital_inicial * (1 + taxa_de_juros) ** periodo\n",
        "    return montante\n",
        "\n",
        "if __name__ == \"__main__\":\n",
        "    try:\n",
        "        capital_inicial = float(input(\"Digite o valor do capital inicial: \"))\n",
        "        taxa_de_juros = float(input(\"Digite a taxa de juros (em forma decimal): \"))\n",
        "        periodo = int(input(\"Digite o número de períodos: \"))\n",
        "\n",
        "        resultado = calcular_juros_compostos(capital_inicial, taxa_de_juros, periodo)\n",
        "        print(\"O montante acumulado é de {:.2f}:\".format(resultado))\n",
        "\n",
        "    except ValueError:\n",
        "        print(\"Erro: Certifique-se de inserir valores numéricos corretos.\")"
      ],
      "metadata": {
        "id": "swr068sZu7f0",
        "outputId": "b54d2d5f-bb4c-4d2d-8e2a-49d2e16d2373",
        "colab": {
          "base_uri": "https://localhost:8080/"
        }
      },
      "execution_count": 9,
      "outputs": [
        {
          "output_type": "stream",
          "name": "stdout",
          "text": [
            "Digite o valor do capital inicial: 25000\n",
            "Digite a taxa de juros (em forma decimal): 0.07\n",
            "Digite o número de períodos: 3\n",
            "O montante acumulado é de 30626.08:\n"
          ]
        }
      ]
    }
  ]
}