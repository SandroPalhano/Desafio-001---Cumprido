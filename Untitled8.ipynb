{
  "nbformat": 4,
  "nbformat_minor": 0,
  "metadata": {
    "colab": {
      "provenance": [],
      "authorship_tag": "ABX9TyMuP0TwsSle9ZkcWYzXwkgt",
      "include_colab_link": true
    },
    "kernelspec": {
      "name": "python3",
      "display_name": "Python 3"
    },
    "language_info": {
      "name": "python"
    }
  },
  "cells": [
    {
      "cell_type": "markdown",
      "metadata": {
        "id": "view-in-github",
        "colab_type": "text"
      },
      "source": [
        "<a href=\"https://colab.research.google.com/github/SandroPalhano/Desafio-001---Cumprido/blob/main/Untitled8.ipynb\" target=\"_parent\"><img src=\"https://colab.research.google.com/assets/colab-badge.svg\" alt=\"Open In Colab\"/></a>"
      ]
    },
    {
      "cell_type": "markdown",
      "source": [
        "Análise de vendas:"
      ],
      "metadata": {
        "id": "pFr0tchEfQx8"
      }
    },
    {
      "cell_type": "code",
      "execution_count": null,
      "metadata": {
        "colab": {
          "base_uri": "https://localhost:8080/"
        },
        "id": "S-jy_zISfNSM",
        "outputId": "d9f65f23-331e-4f6d-df32-5f82869dc992"
      },
      "outputs": [
        {
          "output_type": "stream",
          "name": "stdout",
          "text": [
            "João bateu a meta, vendeu 15000 unidades\n",
            "Julia bateu a meta, vendeu 27000 unidades\n",
            "Ana bateu a meta, vendeu 10300 unidades\n",
            "Sandro bateu a meta, vendeu 30000 unidades\n"
          ]
        }
      ],
      "source": [
        "meta = 10000\n",
        "vendas = [\n",
        "    ('João', 15000),\n",
        "    ('Julia', 27000),\n",
        "    ('Marcos', 9900),\n",
        "    ('Maria', 3750),\n",
        "    ('Ana', 10300),\n",
        "    ('Sandro', 30000)\n",
        "    ]\n",
        "for vendedor, qtde in vendas:\n",
        "  if qtde >= meta:\n",
        "    print (\"{} bateu a meta, vendeu {} unidades\".format (vendedor, qtde))"
      ]
    },
    {
      "cell_type": "markdown",
      "source": [
        "Comparação com o ano anterior:"
      ],
      "metadata": {
        "id": "DmEbEDgmg5_7"
      }
    },
    {
      "cell_type": "markdown",
      "source": [
        "Digamos que você está analisando as vendas de produtos de um ecommerce e quer identificar quais produtos tiveram no ano de 2020 mais vendidos que  o ano de 2019, para poder reportar para a diretoria.\n",
        "Sua resposta pode ser um print de cada produto, qual foi a venda de 2019, a venda de 2020 e o % de crescimento de 2020 para 2019.\n",
        "Lembrando, para calcular o % de crescimento de um ano para o outro, podemos fazer (vendas_produto2020/vendas_produto2019 - 1)\n",
        "A lógica da tupla é: (produto, vendas2019, vendas2020)."
      ],
      "metadata": {
        "id": "Mlds0sEuhhMR"
      }
    },
    {
      "cell_type": "code",
      "source": [
        "vendas_produtos = [\n",
        "    (\"iphone\", 558147, 951642),\n",
        "    (\"galaxy\", 712350, 844295),\n",
        "    (\"ipad\", 573823, 590964),\n",
        "    (\"tv\", 405252, 455252)]\n",
        "for produto, vendas2019, vendas2020 in vendas_produtos:\n",
        "  if vendas2020 > vendas2019:\n",
        "      crescimento = vendas2020 / vendas2019 - 1\n",
        "      print ('{} teve {} vendas em 2019, {} vendas em 2020. Crescimento de {:.1%}'.format(produto, vendas2019, vendas2020, crescimento))"
      ],
      "metadata": {
        "colab": {
          "base_uri": "https://localhost:8080/"
        },
        "id": "0h56OHRIg9e5",
        "outputId": "73c949ad-c99a-4fdc-98a0-ce6c2d1b0873"
      },
      "execution_count": null,
      "outputs": [
        {
          "output_type": "stream",
          "name": "stdout",
          "text": [
            "iphone teve 558147 vendas em 2019, 951642 vendas em 2020. Crescimento de 70.5%\n",
            "galaxy teve 712350 vendas em 2019, 844295 vendas em 2020. Crescimento de 18.5%\n",
            "ipad teve 573823 vendas em 2019, 590964 vendas em 2020. Crescimento de 3.0%\n",
            "tv teve 405252 vendas em 2019, 455252 vendas em 2020. Crescimento de 12.3%\n"
          ]
        }
      ]
    },
    {
      "cell_type": "code",
      "source": [
        "print(len(vendas_produtos))\n",
        "print(vendas_produtos[3])\n",
        "print(vendas_produtos[-3])"
      ],
      "metadata": {
        "id": "5vC_meUgks-Z",
        "colab": {
          "base_uri": "https://localhost:8080/"
        },
        "outputId": "e66cadea-35a1-4978-cb3c-10d088be25ed"
      },
      "execution_count": null,
      "outputs": [
        {
          "output_type": "stream",
          "name": "stdout",
          "text": [
            "4\n",
            "('tv', 405252, 455252)\n",
            "('galaxy', 712350, 844295)\n"
          ]
        }
      ]
    },
    {
      "cell_type": "code",
      "source": [
        "texto = \"SandroLindo\"\n",
        "email= 'palhanousa@gmail.com'\n",
        "print('O tamanho do meu texto é de: ' + str(len(texto)) + ' caracteres')\n",
        "print(email[2], email[3])\n",
        "print(texto[-1])\n",
        "print(texto[:3])\n",
        "print(texto[:-3])\n",
        "print('O servidor do meu e-mail é: ' + email[11:-4])"
      ],
      "metadata": {
        "colab": {
          "base_uri": "https://localhost:8080/"
        },
        "id": "g1sMjnc_fG7E",
        "outputId": "fdf8bf05-fd46-4264-aa08-627663a56583"
      },
      "execution_count": null,
      "outputs": [
        {
          "output_type": "stream",
          "name": "stdout",
          "text": [
            "O tamanho do meu texto é de: 11 caracteres\n",
            "l h\n",
            "o\n",
            "San\n",
            "SandroLi\n",
            "O servidor do meu e-mail é: gmail\n"
          ]
        }
      ]
    }
  ]
}